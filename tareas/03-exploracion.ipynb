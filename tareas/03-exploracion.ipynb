{
  "nbformat": 4,
  "nbformat_minor": 0,
  "metadata": {
    "colab": {
      "name": "03-exploracion.ipynb",
      "provenance": [],
      "collapsed_sections": [],
      "include_colab_link": true
    },
    "kernelspec": {
      "name": "python3",
      "display_name": "Python 3"
    }
  },
  "cells": [
    {
      "cell_type": "markdown",
      "metadata": {
        "id": "view-in-github",
        "colab_type": "text"
      },
      "source": [
        "<a href=\"https://colab.research.google.com/github/EsquivelJC/hacking-civico/blob/master/tareas/03-exploracion.ipynb\" target=\"_parent\"><img src=\"https://colab.research.google.com/assets/colab-badge.svg\" alt=\"Open In Colab\"/></a>"
      ]
    },
    {
      "cell_type": "markdown",
      "metadata": {
        "id": "azfLcEkBR9jv",
        "colab_type": "text"
      },
      "source": [
        "# Exploración de datos: COVID-19 en México\n",
        "\n",
        "En este cuaderno aprenderemos algunas bases de exploración de datos. Los datos a utilizar son los datos abiertos sobre COVID-19 en México, los cuales pueden ser accedidos directamente desde el portal: https://www.gob.mx/salud/documentos/datos-abiertos-152127\n",
        "\n",
        "Del portal de datos abiertos podemos encontrar dos enlaces, uno para descargar el conjunto de datos y otro para descargar el diccionario; así que podemos automatizar el proceso de descarga y descompresión de la información.\n",
        "\n",
        "Para obtener los datos, sólo basta que ejecutes la siguiente línea de código, que contiene el comando de descarga de la información."
      ]
    },
    {
      "cell_type": "code",
      "metadata": {
        "id": "yPNA6QJjqFZg",
        "colab_type": "code",
        "colab": {
          "base_uri": "https://localhost:8080/",
          "height": 544
        },
        "outputId": "d0f4f5ce-8374-4930-ef7e-7df7f7f12446"
      },
      "source": [
        "# Para descargar el conjunto de datos\n",
        "!wget http://datosabiertos.salud.gob.mx/gobmx/salud/datos_abiertos/datos_abiertos_covid19.zip\n",
        "\n",
        "# Para descargar el diccionario de los datos\n",
        "!wget http://epidemiologia.salud.gob.mx/gobmx/salud/datos_abiertos/diccionario_datos_covid19.zip\n",
        "\n",
        "# Descomprimimos ambas carpetas y movemos archivos\n",
        "!unzip datos_abiertos_covid19.zip\n",
        "!unzip diccionario_datos_covid19.zip\n",
        "!mv ./diccionario_datos_covid19/*.xlsx .\n",
        "!mv *COVID19MEXICO.csv COVID19MEXICO.csv\n",
        "\n",
        "# Eliminamos las carpetas comprimidas\n",
        "!rm -rf diccionario_datos_covid19\n",
        "!rm datos_abiertos_covid19.zip\n",
        "!rm diccionario_datos_covid19.zip"
      ],
      "execution_count": 1,
      "outputs": [
        {
          "output_type": "stream",
          "text": [
            "--2020-09-14 02:21:31--  http://datosabiertos.salud.gob.mx/gobmx/salud/datos_abiertos/datos_abiertos_covid19.zip\n",
            "Resolving datosabiertos.salud.gob.mx (datosabiertos.salud.gob.mx)... 187.210.186.146\n",
            "Connecting to datosabiertos.salud.gob.mx (datosabiertos.salud.gob.mx)|187.210.186.146|:80... connected.\n",
            "HTTP request sent, awaiting response... 200 OK\n",
            "Length: 32082132 (31M) [application/x-zip-compressed]\n",
            "Saving to: ‘datos_abiertos_covid19.zip’\n",
            "\n",
            "datos_abiertos_covi 100%[===================>]  30.60M  13.1MB/s    in 2.3s    \n",
            "\n",
            "2020-09-14 02:21:34 (13.1 MB/s) - ‘datos_abiertos_covid19.zip’ saved [32082132/32082132]\n",
            "\n",
            "--2020-09-14 02:21:34--  http://epidemiologia.salud.gob.mx/gobmx/salud/datos_abiertos/diccionario_datos_covid19.zip\n",
            "Resolving epidemiologia.salud.gob.mx (epidemiologia.salud.gob.mx)... 187.191.75.207\n",
            "Connecting to epidemiologia.salud.gob.mx (epidemiologia.salud.gob.mx)|187.191.75.207|:80... connected.\n",
            "HTTP request sent, awaiting response... 301 Moved Permanently\n",
            "Location: https://epidemiologia.salud.gob.mx/gobmx/salud/datos_abiertos/diccionario_datos_covid19.zip [following]\n",
            "--2020-09-14 02:21:34--  https://epidemiologia.salud.gob.mx/gobmx/salud/datos_abiertos/diccionario_datos_covid19.zip\n",
            "Connecting to epidemiologia.salud.gob.mx (epidemiologia.salud.gob.mx)|187.191.75.207|:443... connected.\n",
            "HTTP request sent, awaiting response... 200 OK\n",
            "Length: 81416 (80K) [application/x-zip-compressed]\n",
            "Saving to: ‘diccionario_datos_covid19.zip’\n",
            "\n",
            "diccionario_datos_c 100%[===================>]  79.51K  --.-KB/s    in 0.07s   \n",
            "\n",
            "2020-09-14 02:21:34 (1.11 MB/s) - ‘diccionario_datos_covid19.zip’ saved [81416/81416]\n",
            "\n",
            "Archive:  datos_abiertos_covid19.zip\n",
            "  inflating: 200913COVID19MEXICO.csv  \n",
            "Archive:  diccionario_datos_covid19.zip\n",
            "  inflating: diccionario_datos_covid19/Catalogos_0412.xlsx  \n",
            "  inflating: diccionario_datos_covid19/Descriptores_0419.xlsx  \n"
          ],
          "name": "stdout"
        }
      ]
    },
    {
      "cell_type": "markdown",
      "metadata": {
        "id": "0CfIFLH7YHXE",
        "colab_type": "text"
      },
      "source": [
        "## Carga\n",
        "\n",
        "Ahora que tenemos los datos, procederemos a cargarlos. Para cargar los datos, primero importaremos algunos paquetes de Python, pues su funcionalidad nos será muy util."
      ]
    },
    {
      "cell_type": "code",
      "metadata": {
        "id": "M09sjPpIYLOZ",
        "colab_type": "code",
        "colab": {}
      },
      "source": [
        "import statistics\n",
        "\n",
        "import pandas as pd\n",
        "import numpy as np"
      ],
      "execution_count": 2,
      "outputs": []
    },
    {
      "cell_type": "code",
      "metadata": {
        "id": "LzZRHpnclPvj",
        "colab_type": "code",
        "colab": {}
      },
      "source": [
        "# Especificamos el nombre del archivo por abrir\n",
        "nombre_archivo = 'COVID19MEXICO.csv'\n",
        "\n",
        "# Utilizamos la función de Pandas para cargar un archivo CSV\n",
        "data = pd.read_csv(nombre_archivo, encoding='latin-1')"
      ],
      "execution_count": 3,
      "outputs": []
    },
    {
      "cell_type": "markdown",
      "metadata": {
        "id": "oPbuQM-3t5fA",
        "colab_type": "text"
      },
      "source": [
        "Ahora procedemos a cargar el archivo con los descriptores."
      ]
    },
    {
      "cell_type": "code",
      "metadata": {
        "id": "gO6XRvTcltp0",
        "colab_type": "code",
        "colab": {}
      },
      "source": [
        "nombre_diccionario = 'Descriptores_0419.xlsx'\n",
        "diccionario = pd.read_excel(nombre_diccionario)"
      ],
      "execution_count": 4,
      "outputs": []
    },
    {
      "cell_type": "markdown",
      "metadata": {
        "id": "vpXR83GDuE8H",
        "colab_type": "text"
      },
      "source": [
        "Finalmente, cargamos el rachivo de catálogos."
      ]
    },
    {
      "cell_type": "code",
      "metadata": {
        "id": "LeK0_2pjog0Z",
        "colab_type": "code",
        "colab": {}
      },
      "source": [
        "nombre_cat = 'Catalogos_0412.xlsx'\n",
        "sheets = ['ORIGEN', 'SECTOR', 'SEXO', 'TIPO_PACIENTE', 'SI_NO', 'NACIONALIDAD', 'RESULTADO', 'de ENTIDADES', 'MUNICIPIOS']\n",
        "catalogues = {}\n",
        "for sheet in sheets:\n",
        "  catalogue = pd.read_excel(nombre_cat, sheet_name='Catálogo ' + sheet)\n",
        "  catalogue.columns = catalogue.columns.str.replace(' ', '_')\n",
        "  catalogue.columns = catalogue.columns.str.replace('.', '')\n",
        "  catalogue.columns = catalogue.columns.str.lower()\n",
        "  new_catalogue = {sheet: catalogue}\n",
        "  catalogues.update(new_catalogue)"
      ],
      "execution_count": 5,
      "outputs": []
    },
    {
      "cell_type": "markdown",
      "metadata": {
        "id": "k7GdBenHYvEP",
        "colab_type": "text"
      },
      "source": [
        "##Perfilamiento"
      ]
    },
    {
      "cell_type": "markdown",
      "metadata": {
        "id": "wNIz4rIPthlT",
        "colab_type": "text"
      },
      "source": [
        "###Descripción General"
      ]
    },
    {
      "cell_type": "code",
      "metadata": {
        "id": "VQ2HbSGq2R9N",
        "colab_type": "code",
        "colab": {}
      },
      "source": [
        "# limpieza del nombre de las columnas, remover espacios, carácteres especiales y pasar a minúsculas\n",
        "data.columns = data.columns.str.replace(' ', '_')\n",
        "data.columns = data.columns.str.replace('.', '')\n",
        "data.columns = data.columns.str.lower()"
      ],
      "execution_count": 6,
      "outputs": []
    },
    {
      "cell_type": "markdown",
      "metadata": {
        "id": "7ckFUUobuRH2",
        "colab_type": "text"
      },
      "source": [
        "###Limpieza"
      ]
    },
    {
      "cell_type": "code",
      "metadata": {
        "id": "4ISn-U85uWLn",
        "colab_type": "code",
        "colab": {}
      },
      "source": [
        "# convertimos a fecha algunas columnas\n",
        "def cast_datetime_cols(df):\n",
        "    timestamp_cols = [col for col in df.columns if \"fecha\" in col]\n",
        "    df[timestamp_cols] = df[timestamp_cols].apply(lambda date_col: pd.to_datetime(date_col, errors=\"coerce\"), axis=0)\n",
        "    return df\n",
        "\n",
        "data = cast_datetime_cols(data)"
      ],
      "execution_count": 7,
      "outputs": []
    },
    {
      "cell_type": "code",
      "metadata": {
        "id": "D8KhfZhKu9wf",
        "colab_type": "code",
        "colab": {}
      },
      "source": [
        "# unimos los datos con los catalogos para tener mejor entendimiento de ellos\n",
        "data = (\n",
        "    # unimos con el catálogo MUNICIPIOS y ENTIDADES\n",
        "    data.merge(catalogues['de ENTIDADES'], how='left', left_on='entidad_res', right_on='clave_entidad').\n",
        "    drop(columns=['entidad_res', 'abreviatura']).\n",
        "    rename(columns={'entidad_federativa':'entidad_res'}).\n",
        "    merge(catalogues['MUNICIPIOS'], how='left', left_on=['clave_entidad','municipio_res'], right_on=['clave_entidad','clave_municipio']).\n",
        "    drop(columns=['municipio_res', 'clave_entidad', 'clave_municipio']).\n",
        "    rename(columns={'municipio':'municipio_res'})\n",
        ")"
      ],
      "execution_count": 8,
      "outputs": []
    },
    {
      "cell_type": "code",
      "metadata": {
        "id": "BrRuJFZZCVdt",
        "colab_type": "code",
        "colab": {}
      },
      "source": [
        "# unimos con el catálogo de ENTIDADES\n",
        "entidades_cols = [col for col in data.columns if \"entidad\" in col and col != 'entidad_res']\n",
        "for col in entidades_cols:\n",
        "    data = (\n",
        "        data.merge(catalogues['de ENTIDADES'], how='left', left_on=col, right_on='clave_entidad').\n",
        "        drop(columns=[col, 'abreviatura', 'clave_entidad']).\n",
        "        rename(columns={'entidad_federativa':col})\n",
        "    )"
      ],
      "execution_count": 9,
      "outputs": []
    },
    {
      "cell_type": "code",
      "metadata": {
        "id": "lc4J3ufC9z7c",
        "colab_type": "code",
        "colab": {}
      },
      "source": [
        "# unimos con el catálogo SI_NO\n",
        "sino_cols = ['intubado', 'neumonia', 'embarazo', 'habla_lengua_indig', 'diabetes', 'epoc', 'asma', 'inmusupr',\n",
        "             'hipertension', 'otra_com', 'cardiovascular', 'obesidad', 'renal_cronica', 'tabaquismo', \n",
        "             'otro_caso', 'migrante', 'uci']\n",
        "for col in sino_cols:\n",
        "    data = (\n",
        "        data.merge(catalogues['SI_NO'], how='left', left_on=col, right_on='clave').\n",
        "        drop(columns=[col, 'clave']).\n",
        "        rename(columns={'descripción':col})\n",
        "    )"
      ],
      "execution_count": 10,
      "outputs": []
    },
    {
      "cell_type": "markdown",
      "metadata": {
        "id": "Es0J05jBu3Zh",
        "colab_type": "text"
      },
      "source": [
        "> **Nota:**\n",
        ">\n",
        "> Si ejecutaste una versión previa del cuaderno, notarás que en la siguiente sección aparecía un error. A continuación dejamos como un pequeño paréntesis un poco más de limpieza sobre el cuaderno.\n",
        "\n",
        "1. Corregimos el nombre de las columnas:"
      ]
    },
    {
      "cell_type": "code",
      "metadata": {
        "id": "H2qOV3QGi6pp",
        "colab_type": "code",
        "colab": {
          "base_uri": "https://localhost:8080/",
          "height": 34
        },
        "outputId": "e51bdc7d-94f3-4571-b1d4-82b971b6be2e"
      },
      "source": [
        "catalogues['RESULTADO'].columns"
      ],
      "execution_count": 11,
      "outputs": [
        {
          "output_type": "execute_result",
          "data": {
            "text/plain": [
              "Index(['unnamed:_0', 'unnamed:_1'], dtype='object')"
            ]
          },
          "metadata": {
            "tags": []
          },
          "execution_count": 11
        }
      ]
    },
    {
      "cell_type": "code",
      "metadata": {
        "id": "5SRGGO_QhgAr",
        "colab_type": "code",
        "colab": {
          "base_uri": "https://localhost:8080/",
          "height": 34
        },
        "outputId": "701bde95-8c36-4e08-f241-bbb8f2c7956f"
      },
      "source": [
        "catalogues['RESULTADO'].columns = ['clave', 'descripción']\n",
        "catalogues['RESULTADO'].columns"
      ],
      "execution_count": 12,
      "outputs": [
        {
          "output_type": "execute_result",
          "data": {
            "text/plain": [
              "Index(['clave', 'descripción'], dtype='object')"
            ]
          },
          "metadata": {
            "tags": []
          },
          "execution_count": 12
        }
      ]
    },
    {
      "cell_type": "markdown",
      "metadata": {
        "id": "N2L94Ft4wFlT",
        "colab_type": "text"
      },
      "source": [
        "2. Removemos la (primera) fila que no nos es útil."
      ]
    },
    {
      "cell_type": "code",
      "metadata": {
        "id": "OexEfsUnjRMp",
        "colab_type": "code",
        "colab": {}
      },
      "source": [
        "catalogues['RESULTADO'] = catalogues['RESULTADO'].drop(index=0)"
      ],
      "execution_count": 13,
      "outputs": []
    },
    {
      "cell_type": "markdown",
      "metadata": {
        "id": "7m8TvocZ0Zxn",
        "colab_type": "text"
      },
      "source": [
        "3. Convertimos el tipo de dato."
      ]
    },
    {
      "cell_type": "code",
      "metadata": {
        "id": "AyLbq461kDX_",
        "colab_type": "code",
        "colab": {}
      },
      "source": [
        "catalogues['RESULTADO']['clave'] = catalogues['RESULTADO']['clave'].astype(int)"
      ],
      "execution_count": 14,
      "outputs": []
    },
    {
      "cell_type": "markdown",
      "metadata": {
        "id": "2oPUF3VI0dWV",
        "colab_type": "text"
      },
      "source": [
        "> Fin del paréntesis. Hasta esta sección, esta parte de limpieza permite continuar con el proceso de manera normal."
      ]
    },
    {
      "cell_type": "code",
      "metadata": {
        "id": "sTqV6pDE9x0Y",
        "colab_type": "code",
        "colab": {}
      },
      "source": [
        "# unimos otras columnnas que comparten lógica\n",
        "other_cols = ['origen', 'sector', 'sexo', 'tipo_paciente', 'nacionalidad', 'resultado']\n",
        "for col, cat in zip(other_cols, [x.upper() for x in other_cols]):\n",
        "    data = (\n",
        "        data.merge(catalogues[cat], how='left', left_on=col, right_on='clave').\n",
        "        drop(columns=[col, 'clave']).\n",
        "        rename(columns={'descripción':col})\n",
        "    )"
      ],
      "execution_count": 15,
      "outputs": []
    },
    {
      "cell_type": "code",
      "metadata": {
        "id": "y9SwccZAEt8i",
        "colab_type": "code",
        "colab": {}
      },
      "source": [
        "# creamos algunas variables que podrían ser útiles después\n",
        "data['defuncion'] = ~data.fecha_def.isna()\n",
        "data['mes_def'] = data.fecha_def.dt.month\n",
        "data['año_def'] = data.fecha_def.dt.year\n",
        "data['mes_ingreso'] = data.fecha_ingreso.dt.month\n",
        "data['año_ingreso'] = data.fecha_ingreso.dt.year"
      ],
      "execution_count": 16,
      "outputs": []
    },
    {
      "cell_type": "markdown",
      "metadata": {
        "id": "idj77LkXbGFZ",
        "colab_type": "text"
      },
      "source": [
        "# **Tarea 3**"
      ]
    },
    {
      "cell_type": "markdown",
      "metadata": {
        "id": "u17vw2CXgu-p",
        "colab_type": "text"
      },
      "source": [
        "# ¿Tienen los pacientes con hipertensión un riesgo más alto de defunción?\n",
        "Al parecer, es un .04% de riesgo si no tiene hipertensión y .16% de riesgo si sí tiene hipertensión, por lo que estos pacientes tienen un aumento considerable del .08% de riesgo dada su enfermedad."
      ]
    },
    {
      "cell_type": "code",
      "metadata": {
        "id": "o-y6O-7jbPN5",
        "colab_type": "code",
        "colab": {
          "base_uri": "https://localhost:8080/",
          "height": 153
        },
        "outputId": "0c4fc276-0bb1-4c77-a06a-bfcb24bcd1c2"
      },
      "source": [
        "data.groupby('hipertension').defuncion.value_counts(normalize=True)"
      ],
      "execution_count": 17,
      "outputs": [
        {
          "output_type": "execute_result",
          "data": {
            "text/plain": [
              "hipertension  defuncion\n",
              "NO            False        0.960811\n",
              "              True         0.039189\n",
              "SE IGNORA     False        0.872118\n",
              "              True         0.127882\n",
              "SI            False        0.834710\n",
              "              True         0.165290\n",
              "Name: defuncion, dtype: float64"
            ]
          },
          "metadata": {
            "tags": []
          },
          "execution_count": 17
        }
      ]
    },
    {
      "cell_type": "markdown",
      "metadata": {
        "id": "meGZzHGHhOwk",
        "colab_type": "text"
      },
      "source": [
        "#¿Cuántos casos confirmados se tienen por Estado?"
      ]
    },
    {
      "cell_type": "code",
      "metadata": {
        "id": "Y9sHl64nbSMI",
        "colab_type": "code",
        "colab": {
          "base_uri": "https://localhost:8080/",
          "height": 595
        },
        "outputId": "0b375c5b-fddc-4eca-ad13-980d06b0da20"
      },
      "source": [
        "data[data.resultado == 'Positivo SARS-CoV-2'].entidad_res.value_counts().sort_index()"
      ],
      "execution_count": 25,
      "outputs": [
        {
          "output_type": "execute_result",
          "data": {
            "text/plain": [
              "resultado            entidad_res                    \n",
              "Positivo SARS-CoV-2  AGUASCALIENTES                       6392\n",
              "                     BAJA CALIFORNIA                     18328\n",
              "                     BAJA CALIFORNIA SUR                  8946\n",
              "                     CAMPECHE                             5795\n",
              "                     CHIAPAS                              6380\n",
              "                     CHIHUAHUA                            8981\n",
              "                     CIUDAD DE MÉXICO                   111443\n",
              "                     COAHUILA DE ZARAGOZA                24043\n",
              "                     COLIMA                               4188\n",
              "                     DURANGO                              7723\n",
              "                     GUANAJUATO                          36646\n",
              "                     GUERRERO                            16454\n",
              "                     HIDALGO                             11436\n",
              "                     JALISCO                             23221\n",
              "                     MICHOACÁN DE OCAMPO                 17614\n",
              "                     MORELOS                              5533\n",
              "                     MÉXICO                              74067\n",
              "                     NAYARIT                              5486\n",
              "                     NUEVO LEÓN                          33926\n",
              "                     OAXACA                              14903\n",
              "                     PUEBLA                              29129\n",
              "                     QUERÉTARO                            7669\n",
              "                     QUINTANA ROO                        11118\n",
              "                     SAN LUIS POTOSÍ                     20756\n",
              "                     SINALOA                             17330\n",
              "                     SONORA                              23160\n",
              "                     TABASCO                             30045\n",
              "                     TAMAULIPAS                          26861\n",
              "                     TLAXCALA                             6908\n",
              "                     VERACRUZ DE IGNACIO DE LA LLAVE     30867\n",
              "                     YUCATÁN                             16665\n",
              "                     ZACATECAS                            6368\n",
              "Name: entidad_res, dtype: int64"
            ]
          },
          "metadata": {
            "tags": []
          },
          "execution_count": 25
        }
      ]
    },
    {
      "cell_type": "markdown",
      "metadata": {
        "id": "a7MTACo5iatF",
        "colab_type": "text"
      },
      "source": [
        "#¿Cuántas defunciones se tienen por Estado?"
      ]
    },
    {
      "cell_type": "code",
      "metadata": {
        "id": "yTOYL1DTbVKW",
        "colab_type": "code",
        "colab": {
          "base_uri": "https://localhost:8080/",
          "height": 578
        },
        "outputId": "1fd10cb6-1454-4cfb-8275-c3eec89fef93"
      },
      "source": [
        "data[data.defuncion == True].entidad_res.value_counts().sort_index()"
      ],
      "execution_count": 32,
      "outputs": [
        {
          "output_type": "execute_result",
          "data": {
            "text/plain": [
              "AGUASCALIENTES                       605\n",
              "BAJA CALIFORNIA                     4085\n",
              "BAJA CALIFORNIA SUR                  541\n",
              "CAMPECHE                             959\n",
              "CHIAPAS                             1221\n",
              "CHIHUAHUA                           2043\n",
              "CIUDAD DE MÉXICO                   12038\n",
              "COAHUILA DE ZARAGOZA                2215\n",
              "COLIMA                               603\n",
              "DURANGO                              721\n",
              "GUANAJUATO                          3222\n",
              "GUERRERO                            2307\n",
              "HIDALGO                             2095\n",
              "JALISCO                             3918\n",
              "MICHOACÁN DE OCAMPO                 1937\n",
              "MORELOS                             1256\n",
              "MÉXICO                             13682\n",
              "NAYARIT                              826\n",
              "NUEVO LEÓN                          3558\n",
              "OAXACA                              1624\n",
              "PUEBLA                              4636\n",
              "QUERÉTARO                           1014\n",
              "QUINTANA ROO                        1927\n",
              "SAN LUIS POTOSÍ                     1790\n",
              "SINALOA                             3759\n",
              "SONORA                              3284\n",
              "TABASCO                             2936\n",
              "TAMAULIPAS                          2858\n",
              "TLAXCALA                            1332\n",
              "VERACRUZ DE IGNACIO DE LA LLAVE     4861\n",
              "YUCATÁN                             1822\n",
              "ZACATECAS                            776\n",
              "Name: entidad_res, dtype: int64"
            ]
          },
          "metadata": {
            "tags": []
          },
          "execution_count": 32
        }
      ]
    },
    {
      "cell_type": "markdown",
      "metadata": {
        "id": "Q-ddlAAVgWEF",
        "colab_type": "text"
      },
      "source": [
        "#¿Cuántos fallecimientos han ocurrido en el Estado con mayor número de casos confirmados?\n",
        "La ciudad de México es quien tiene mayor número de casos confirmados con 12038"
      ]
    },
    {
      "cell_type": "markdown",
      "metadata": {
        "id": "5dYqV0OPgdZ4",
        "colab_type": "text"
      },
      "source": [
        "#¿Cuántos fallecimientos han ocurrido en los pacientes Ambulatorios?\n",
        "Han fallecido 9633 en los pacientes Ambulatorios"
      ]
    },
    {
      "cell_type": "code",
      "metadata": {
        "id": "QltkWiZ9bbys",
        "colab_type": "code",
        "colab": {
          "base_uri": "https://localhost:8080/",
          "height": 119
        },
        "outputId": "75c1842d-3909-4022-ad85-2105b2f2f901"
      },
      "source": [
        "data.groupby('tipo_paciente').defuncion.value_counts()"
      ],
      "execution_count": 28,
      "outputs": [
        {
          "output_type": "execute_result",
          "data": {
            "text/plain": [
              "tipo_paciente  defuncion\n",
              "AMBULATORIO    False        1244673\n",
              "               True            9633\n",
              "HOSPITALIZADO  False         181464\n",
              "               True           80818\n",
              "Name: defuncion, dtype: int64"
            ]
          },
          "metadata": {
            "tags": []
          },
          "execution_count": 28
        }
      ]
    }
  ]
}