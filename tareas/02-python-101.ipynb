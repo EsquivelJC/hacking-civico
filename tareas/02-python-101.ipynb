{
  "nbformat": 4,
  "nbformat_minor": 0,
  "metadata": {
    "colab": {
      "name": "Untitled0.ipynb",
      "provenance": [],
      "authorship_tag": "ABX9TyNbOk3KP7zUeYkaVtNgBI0p",
      "include_colab_link": true
    },
    "kernelspec": {
      "name": "python3",
      "display_name": "Python 3"
    }
  },
  "cells": [
    {
      "cell_type": "markdown",
      "metadata": {
        "id": "view-in-github",
        "colab_type": "text"
      },
      "source": [
        "<a href=\"https://colab.research.google.com/github/EsquivelJC/hacking-civico/blob/master/tareas/02-python-101.ipynb\" target=\"_parent\"><img src=\"https://colab.research.google.com/assets/colab-badge.svg\" alt=\"Open In Colab\"/></a>"
      ]
    },
    {
      "cell_type": "markdown",
      "metadata": {
        "id": "vDXJPQ0fA54K",
        "colab_type": "text"
      },
      "source": [
        "# ***Tarea No. 2*** by Juan Carlos Esquivel Rangel"
      ]
    },
    {
      "cell_type": "markdown",
      "metadata": {
        "id": "2DwV55pKB3Rc",
        "colab_type": "text"
      },
      "source": [
        "**Primero.** <br>\n",
        "\n",
        "\n",
        "---\n",
        "\n",
        "\n",
        "1.Investiga el número de habitantes que hay en tu ciudad, estado y país, así como la superficie (en km²) de los mismos.\n",
        "\n",
        "---\n",
        "Habitantes: <br>\n",
        "México tiene 119,530,753 <br>\n",
        "Nuevo León tiene 5,119,504 <br>\n",
        "Guadalupe 682,880 <br>\n",
        "\n",
        "Superficie(en km²): <br>\n",
        "México es 1,960,189 km² <br>\n",
        "Nuevo León es 64,156 km² <br>\n",
        "Guadalupe es 151.3 km² <br>\n"
      ]
    },
    {
      "cell_type": "code",
      "metadata": {
        "id": "LW8QOn3mGd1p",
        "colab_type": "code",
        "colab": {}
      },
      "source": [
        "ciudad_gpe = {'habitantes': 682880,'superficie': 151}\n",
        "estado_nl = {'habitantes': 5119504,'superficie': 64156}\n",
        "pais_mx = {'habitantes': 119938473 ,'superficie': 1960189}"
      ],
      "execution_count": 12,
      "outputs": []
    },
    {
      "cell_type": "markdown",
      "metadata": {
        "id": "SaBj9i4XFMaK",
        "colab_type": "text"
      },
      "source": [
        "\n",
        "\n",
        "---\n",
        "\n",
        "\n",
        "2.Escribe una función llamada densidad_poblacional que tome dos argumentos, poblacion y area_ciudad.\n",
        "\n",
        "\n",
        "---\n",
        "\n"
      ]
    },
    {
      "cell_type": "code",
      "metadata": {
        "id": "W-bhGnI1FXLi",
        "colab_type": "code",
        "colab": {}
      },
      "source": [
        "def densidad_poblacional(población, área_ciudad):\n",
        "    densidad = población/área_ciudad\n",
        "    print(densidad)\n",
        "    return densidad"
      ],
      "execution_count": 10,
      "outputs": []
    },
    {
      "cell_type": "markdown",
      "metadata": {
        "id": "ukz16wpNF2Xf",
        "colab_type": "text"
      },
      "source": [
        "\n",
        "\n",
        "---\n",
        "\n",
        "\n",
        "3.Haz que la función devuelva una densidad de población calculada a partir de esos valores (investiga la fórmula).\n",
        "\n",
        "\n",
        "---\n",
        "\n"
      ]
    },
    {
      "cell_type": "markdown",
      "metadata": {
        "id": "n9I9RKHoFuSx",
        "colab_type": "text"
      },
      "source": [
        "![image.png](data:image/png;base64,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)"
      ]
    },
    {
      "cell_type": "markdown",
      "metadata": {
        "id": "9ysx2V8VHJf7",
        "colab_type": "text"
      },
      "source": [
        "\n",
        "\n",
        "---\n",
        "\n",
        "4.Prueba esta función con los 3 casos diferentes: país, tu estado y tu ciudad.\n",
        "\n",
        "\n",
        "---\n",
        "\n"
      ]
    },
    {
      "cell_type": "code",
      "metadata": {
        "id": "t4C7Xk40HKK6",
        "colab_type": "code",
        "colab": {
          "base_uri": "https://localhost:8080/",
          "height": 68
        },
        "outputId": "19332bc4-898d-499f-c06c-8b7249c74ccf"
      },
      "source": [
        "gpe_densidad = densidad_poblacional(ciudad_gpe['habitantes'], ciudad_gpe['superficie'])\n",
        "nl_densidad = densidad_poblacional(estado_nl['habitantes'], estado_nl['superficie'])\n",
        "mx_densidad = densidad_poblacional(pais_mx['habitantes'], pais_mx['superficie'])"
      ],
      "execution_count": 13,
      "outputs": [
        {
          "output_type": "stream",
          "text": [
            "4522.384105960265\n",
            "79.797743001434\n",
            "61.18719827526835\n"
          ],
          "name": "stdout"
        }
      ]
    },
    {
      "cell_type": "markdown",
      "metadata": {
        "id": "SI_WkfiPHWgN",
        "colab_type": "text"
      },
      "source": [
        "\n",
        "\n",
        "---\n",
        "\n",
        "\n",
        "5.Responde lo siguiente:\n",
        "¿Cuál es la densidad poblacional?\n",
        "\n",
        "*   ¿Cuál es la densidad poblacional?\n",
        "\n",
        "\n",
        "1.   **México**: 61 habitantes/km2\n",
        "2.   **Nuevo León**: 79 habitantes/km2\n",
        "3.   **Guadalupe**: 4522 habitantes/km2\n",
        "\n",
        "*   ¿Qué pasa comparar varios estados o ciudades?\n",
        "Se pueden encontrar las diferenciaciones en comparación con lo que se conocen como ciudades urbanas, aún como en mi caso, en mi municipio, es comparablemente pequeño en comparación a otros, tiene un promedio más alto dado a encontrarse en el área metropolitana de Nuevo León.\n",
        "\n",
        "---\n",
        "\n"
      ]
    },
    {
      "cell_type": "markdown",
      "metadata": {
        "id": "4lPm1BirWLW5",
        "colab_type": "text"
      },
      "source": [
        "**Segundo. <br>**\n",
        "\n",
        "\n",
        "---\n",
        "\n",
        "\n",
        "1.Utiliza la información que encontraste sobre el gasto público del sector de tu interés y de acuerdo a la población correspondiente calcula el gasto per cápita del último año y uno anterior.\n",
        "\n",
        "\n",
        "---\n",
        "\n"
      ]
    },
    {
      "cell_type": "markdown",
      "metadata": {
        "id": "9EUj34yEatWq",
        "colab_type": "text"
      },
      "source": [
        "Enfocado en ciencia, tecnología e innovación"
      ]
    },
    {
      "cell_type": "code",
      "metadata": {
        "id": "Bf34nn1zgvC0",
        "colab_type": "code",
        "colab": {}
      },
      "source": [
        "def per_capita(gasto, poblacion):\n",
        "  percapita = gasto / poblacion\n",
        "  print(percapita)\n",
        "  return percapita"
      ],
      "execution_count": 23,
      "outputs": []
    },
    {
      "cell_type": "code",
      "metadata": {
        "id": "6XquJdE6YLhc",
        "colab_type": "code",
        "colab": {
          "base_uri": "https://localhost:8080/",
          "height": 68
        },
        "outputId": "f5354a2b-d619-4ccb-98b2-fa660e62f63c"
      },
      "source": [
        "cti_2018 = 92000000000\n",
        "cti_2019 = 91400000000\n",
        "\n",
        "poblacion_2018 = 124930000\n",
        "poblacion_2019 = 125740000\n",
        "\n",
        "percapita2018 = per_capita(cti_2018, poblacion_2018)\n",
        "percapita2019 = per_capita(cti_2018, poblacion_2019)\n",
        "\n",
        "a = int(percapita2018)\n",
        "b = int(percapita2019)\n",
        "\n",
        "porcentaje = (b - a) / b * 100\n",
        "\n",
        "print(porcentaje)"
      ],
      "execution_count": 28,
      "outputs": [
        {
          "output_type": "stream",
          "text": [
            "736.4123909389258\n",
            "731.6685223477016\n",
            "-0.6839945280437756\n"
          ],
          "name": "stdout"
        }
      ]
    },
    {
      "cell_type": "markdown",
      "metadata": {
        "id": "ZlD7jRNulgE5",
        "colab_type": "text"
      },
      "source": [
        "2.Responde lo siguiente:\n",
        "\n",
        "\n",
        "*   ¿En qué porcentaje aumentó o disminuyó?\n",
        "Disminuyó un 0.68%\n",
        "\n",
        "*   ¿A qué crees que se deba?\n",
        "Al crecimiento de la población y al decrecimiento del gasto."
      ]
    },
    {
      "cell_type": "markdown",
      "metadata": {
        "id": "doFTDxskXEsH",
        "colab_type": "text"
      },
      "source": [
        "**Tercero.**\n",
        "\n",
        "1.Responde lo siguiente:\n",
        "\n",
        "\n",
        "\n",
        "*   ¿Para qué crees que nos pueda ser útil esta información?\n",
        "Como ciudadanos para ver los los gastos que hacen en los sectores el gobierno y poder hacer comparativas de años anteriores.\n",
        "\n",
        "*   ¿Qué decisiones podría tomar el gobierno basado en ésta?\n",
        "Tratar de balancear, acorde a años anteriores."
      ]
    }
  ]
}