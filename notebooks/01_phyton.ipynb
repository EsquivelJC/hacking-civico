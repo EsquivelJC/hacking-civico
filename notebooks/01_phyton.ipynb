{
  "nbformat": 4,
  "nbformat_minor": 0,
  "metadata": {
    "colab": {
      "name": "01-phyton.ipynb",
      "provenance": [],
      "collapsed_sections": [],
      "authorship_tag": "ABX9TyOyO0Qd8693AbSCZ8Yu6rgv",
      "include_colab_link": true
    },
    "kernelspec": {
      "name": "python3",
      "display_name": "Python 3"
    }
  },
  "cells": [
    {
      "cell_type": "markdown",
      "metadata": {
        "id": "view-in-github",
        "colab_type": "text"
      },
      "source": [
        "<a href=\"https://colab.research.google.com/github/EsquivelJC/hacking-civico/blob/master/notebooks/01_phyton.ipynb\" target=\"_parent\"><img src=\"https://colab.research.google.com/assets/colab-badge.svg\" alt=\"Open In Colab\"/></a>"
      ]
    },
    {
      "cell_type": "markdown",
      "metadata": {
        "id": "HCGmZws2iaqB",
        "colab_type": "text"
      },
      "source": [
        "# ¿Cuál fue el proyecto?\n",
        "![ToLoCo-TW_dom-768x384](https://user-images.githubusercontent.com/68873192/89724961-5e31c880-d9cf-11ea-8908-bc0b37dea1e0.png)\n",
        "* ## Titulo\n",
        "*TodosLosContratos*\n",
        "* ## Descripción\n",
        "Creada y desarrollada por PODER, TodosLosContratos.mx es una plataforma de análisis de datos, única en su tipo, que evalúa la transparencia, trazabilidad, temporalidad, confiabilidad y competitividad de más de 3.8 millones de contratos públicos realizados en México entre 2001 y 2018. La plataforma, concebida como una herramienta accesible para investigadores y periodistas, principalmente, funciona a través de la enorme base de datos abiertos de QuiénEsQuien.Wiki provenientes de fuentes oficiales, también desarrollada por PODER.\n",
        "* ## Fuente de consulta\n",
        "[TodosLosContratos](https://www.todosloscontratos.mx)\n",
        "# ¿En dónde y cuándo se realizó este proyecto?\n",
        "Activo desde Agosto, 2019, México\n",
        "# ¿Qué proyecto con datos se te ocurre que podría implementarse en tu ciudad?\n",
        "Tal vez un visualizador de los comercios de la ciudad, mostrando los locales y sucursales de la zona, realizando recomendaciones de los negocios nuevos o que se les impulse para darse a conocer, además de tal vez mostrar tiempos de espera, precios, opiniones de usuarios, si poseen certificados de limpieza e higiene, tipos de servicios que ofrecen y sus alternativas(como llevar tus propios utensilios), concurrencia."
      ]
    },
    {
      "cell_type": "code",
      "metadata": {
        "id": "WvdPpz78iwNh",
        "colab_type": "code",
        "colab": {
          "base_uri": "https://localhost:8080/",
          "height": 34
        },
        "outputId": "f4d4cba4-72fa-42b5-a17a-de6325601fa1"
      },
      "source": [
        "print(\"Hola mundo.\")"
      ],
      "execution_count": null,
      "outputs": [
        {
          "output_type": "stream",
          "text": [
            "Hola mundo.\n"
          ],
          "name": "stdout"
        }
      ]
    },
    {
      "cell_type": "code",
      "metadata": {
        "id": "-JiW5_HupJ1H",
        "colab_type": "code",
        "colab": {
          "base_uri": "https://localhost:8080/",
          "height": 34
        },
        "outputId": "4f1dca6c-2ccb-4f50-c7ee-b1e21c9e7c68"
      },
      "source": [
        "# Condicionales\n",
        "\n",
        "valor_imeca = 170\n",
        "\n",
        "if valor_imeca > 100:\n",
        "  print(\"La calidad del aire es mala\")"
      ],
      "execution_count": null,
      "outputs": [
        {
          "output_type": "stream",
          "text": [
            "La calidad del aire es mala\n"
          ],
          "name": "stdout"
        }
      ]
    },
    {
      "cell_type": "code",
      "metadata": {
        "id": "RH_q9JBWpmi_",
        "colab_type": "code",
        "colab": {}
      },
      "source": [
        "# Condicionales\n",
        "\n",
        "ciudad = \"CDMX\"\n",
        "\n",
        "if ciudad == \"León\":\n",
        "  print(\"Sí es León\")"
      ],
      "execution_count": null,
      "outputs": []
    },
    {
      "cell_type": "code",
      "metadata": {
        "id": "jMEF_t0UqCRB",
        "colab_type": "code",
        "colab": {
          "base_uri": "https://localhost:8080/",
          "height": 34
        },
        "outputId": "8eee7aa4-684f-489f-9e22-df84c7b97a68"
      },
      "source": [
        "# Condicionales\n",
        "\n",
        "numero = 7\n",
        "\n",
        "# Determinar si es numero par o impar\n",
        "\n",
        "if numero % 2 == 0:\n",
        "  print (\"El número \" + str(numero) +  \" es par\")\n",
        "else:\n",
        "  print(\"El número \" + str(numero) +  \" es impar\")"
      ],
      "execution_count": null,
      "outputs": [
        {
          "output_type": "stream",
          "text": [
            "El número 7 es impar\n"
          ],
          "name": "stdout"
        }
      ]
    },
    {
      "cell_type": "code",
      "metadata": {
        "id": "U6111c4Rq8ic",
        "colab_type": "code",
        "colab": {
          "base_uri": "https://localhost:8080/",
          "height": 34
        },
        "outputId": "1839a3c7-e47d-45bb-8357-6e6027d9803f"
      },
      "source": [
        "# Condicionales\n",
        "\n",
        "valor_imeca = 203\n",
        "\n",
        "if valor_imeca > 0 and valor_imeca < 51:\n",
        "  print(\"Calidad del aire es buena\")\n",
        "elif valor_imeca > 50 and valor_imeca < 101:\n",
        "  print(\"Calidad del aire es regular\")\n",
        "elif valor_imeca > 100 and valor_imeca < 151:\n",
        "  print(\"Calidad del aire es mala\")\n",
        "elif valor_imeca > 150 and valor_imeca < 201:\n",
        "  print(\"Calidad del aire es muy mala\")\n",
        "else:\n",
        "  print(\"Calidad de aire es extremadamente mala\")"
      ],
      "execution_count": null,
      "outputs": [
        {
          "output_type": "stream",
          "text": [
            "Calidad de aire es extremadamente mala\n"
          ],
          "name": "stdout"
        }
      ]
    },
    {
      "cell_type": "code",
      "metadata": {
        "id": "iTs57Z6psCVK",
        "colab_type": "code",
        "colab": {
          "base_uri": "https://localhost:8080/",
          "height": 85
        },
        "outputId": "f96a370e-386c-4071-b0ae-de8404d85117"
      },
      "source": [
        "# Ciclo for\n",
        "\n",
        "for i in \"hola\":\n",
        "  print(i)"
      ],
      "execution_count": null,
      "outputs": [
        {
          "output_type": "stream",
          "text": [
            "h\n",
            "o\n",
            "l\n",
            "a\n"
          ],
          "name": "stdout"
        }
      ]
    },
    {
      "cell_type": "code",
      "metadata": {
        "id": "TJGTv0wCsc1c",
        "colab_type": "code",
        "colab": {
          "base_uri": "https://localhost:8080/",
          "height": 357
        },
        "outputId": "5b4fe6c3-4543-4c89-a5c8-164deb98d064"
      },
      "source": [
        "# Ciclo for\n",
        "\n",
        "for i in range(5, 101, 5):\n",
        "  print(\"El número \" + str(i) + \" es múltiplo de 5.\")"
      ],
      "execution_count": null,
      "outputs": [
        {
          "output_type": "stream",
          "text": [
            "El número 5 es múltiplo de 5.\n",
            "El número 10 es múltiplo de 5.\n",
            "El número 15 es múltiplo de 5.\n",
            "El número 20 es múltiplo de 5.\n",
            "El número 25 es múltiplo de 5.\n",
            "El número 30 es múltiplo de 5.\n",
            "El número 35 es múltiplo de 5.\n",
            "El número 40 es múltiplo de 5.\n",
            "El número 45 es múltiplo de 5.\n",
            "El número 50 es múltiplo de 5.\n",
            "El número 55 es múltiplo de 5.\n",
            "El número 60 es múltiplo de 5.\n",
            "El número 65 es múltiplo de 5.\n",
            "El número 70 es múltiplo de 5.\n",
            "El número 75 es múltiplo de 5.\n",
            "El número 80 es múltiplo de 5.\n",
            "El número 85 es múltiplo de 5.\n",
            "El número 90 es múltiplo de 5.\n",
            "El número 95 es múltiplo de 5.\n",
            "El número 100 es múltiplo de 5.\n"
          ],
          "name": "stdout"
        }
      ]
    },
    {
      "cell_type": "code",
      "metadata": {
        "id": "vibXEIuHtASm",
        "colab_type": "code",
        "colab": {
          "base_uri": "https://localhost:8080/",
          "height": 68
        },
        "outputId": "78b23530-45a6-4769-ec58-598fff2e2805"
      },
      "source": [
        "# Ciclo while\n",
        "\n",
        "numero = 0 \n",
        "\n",
        "while numero < 3:\n",
        "  print (\"hola\")\n",
        "  numero = numero + 1"
      ],
      "execution_count": null,
      "outputs": [
        {
          "output_type": "stream",
          "text": [
            "hola\n",
            "hola\n",
            "hola\n"
          ],
          "name": "stdout"
        }
      ]
    },
    {
      "cell_type": "code",
      "metadata": {
        "id": "bXIvMUKjtQyk",
        "colab_type": "code",
        "colab": {
          "base_uri": "https://localhost:8080/",
          "height": 187
        },
        "outputId": "c0b0fbb9-81b8-4147-9a9d-a9e2800a6dde"
      },
      "source": [
        "# Número de personas enfermas por un virus después de 10 días de contagios\n",
        "\n",
        "personas_enfermas = 3\n",
        "dia = 0\n",
        "\n",
        "# ciclo while\n",
        "while dia < 10:\n",
        "  print(\"Día \" + str(dia) + \", número de personas enfermas: \" + str(personas_enfermas))\n",
        "  personas_enfermas *= 2\n",
        "  dia += 1"
      ],
      "execution_count": null,
      "outputs": [
        {
          "output_type": "stream",
          "text": [
            "Día 0, número de personas enfermas: 3\n",
            "Día 1, número de personas enfermas: 6\n",
            "Día 2, número de personas enfermas: 12\n",
            "Día 3, número de personas enfermas: 24\n",
            "Día 4, número de personas enfermas: 48\n",
            "Día 5, número de personas enfermas: 96\n",
            "Día 6, número de personas enfermas: 192\n",
            "Día 7, número de personas enfermas: 384\n",
            "Día 8, número de personas enfermas: 768\n",
            "Día 9, número de personas enfermas: 1536\n"
          ],
          "name": "stdout"
        }
      ]
    }
  ]
}