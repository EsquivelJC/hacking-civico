{
  "nbformat": 4,
  "nbformat_minor": 0,
  "metadata": {
    "colab": {
      "name": "01-phyton.ipynb",
      "provenance": [],
      "authorship_tag": "ABX9TyM6D9pL/5nMR2WXpcwSWPQJ",
      "include_colab_link": true
    },
    "kernelspec": {
      "name": "python3",
      "display_name": "Python 3"
    }
  },
  "cells": [
    {
      "cell_type": "markdown",
      "metadata": {
        "id": "view-in-github",
        "colab_type": "text"
      },
      "source": [
        "<a href=\"https://colab.research.google.com/github/EsquivelJC/hacking-civico/blob/master/notebooks/01_phyton.ipynb\" target=\"_parent\"><img src=\"https://colab.research.google.com/assets/colab-badge.svg\" alt=\"Open In Colab\"/></a>"
      ]
    },
    {
      "cell_type": "code",
      "metadata": {
        "id": "JFVHJ3FDhH7i",
        "colab_type": "code",
        "colab": {}
      },
      "source": [
        ""
      ],
      "execution_count": null,
      "outputs": []
    },
    {
      "cell_type": "markdown",
      "metadata": {
        "id": "HCGmZws2iaqB",
        "colab_type": "text"
      },
      "source": [
        "# ¿Cuál fue el proyecto?\n",
        "![ToLoCo-TW_dom-768x384](https://user-images.githubusercontent.com/68873192/89724961-5e31c880-d9cf-11ea-8908-bc0b37dea1e0.png)\n",
        "* ## Titulo\n",
        "*TodosLosContratos*\n",
        "* ## Descripción\n",
        "Creada y desarrollada por PODER, TodosLosContratos.mx es una plataforma de análisis de datos, única en su tipo, que evalúa la transparencia, trazabilidad, temporalidad, confiabilidad y competitividad de más de 3.8 millones de contratos públicos realizados en México entre 2001 y 2018. La plataforma, concebida como una herramienta accesible para investigadores y periodistas, principalmente, funciona a través de la enorme base de datos abiertos de QuiénEsQuien.Wiki provenientes de fuentes oficiales, también desarrollada por PODER.\n",
        "* ## Fuente de consulta\n",
        "[TodosLosContratos](https://www.todosloscontratos.mx)\n",
        "# ¿En dónde y cuándo se realizó este proyecto?\n",
        "Activo desde Agosto, 2019, México\n",
        "# ¿Qué proyecto con datos se te ocurre que podría implementarse en tu ciudad?\n",
        "Tal vez un visualizador de los comercios de la ciudad, mostrando los locales y sucursales de la zona, realizando recomendaciones de los negocios nuevos o que se les impulse para darse a conocer, además de tal vez mostrar tiempos de espera, precios, opiniones de usuarios, si poseen certificados de limpieza e higiene, tipos de servicios que ofrecen y sus alternativas(como llevar tus propios utensilios), concurrencia."
      ]
    },
    {
      "cell_type": "code",
      "metadata": {
        "id": "WvdPpz78iwNh",
        "colab_type": "code",
        "colab": {
          "base_uri": "https://localhost:8080/",
          "height": 34
        },
        "outputId": "f4d4cba4-72fa-42b5-a17a-de6325601fa1"
      },
      "source": [
        "print(\"Hola mundo.\")"
      ],
      "execution_count": 1,
      "outputs": [
        {
          "output_type": "stream",
          "text": [
            "Hola mundo.\n"
          ],
          "name": "stdout"
        }
      ]
    }
  ]
}